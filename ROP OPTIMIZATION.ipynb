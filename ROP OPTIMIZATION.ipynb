{
 "cells": [
  {
   "cell_type": "code",
   "execution_count": 52,
   "id": "419a8eeb",
   "metadata": {},
   "outputs": [],
   "source": [
    "import pandas as pd\n",
    "import numpy as np\n",
    "from sklearn.model_selection import train_test_split\n",
    "import warnings\n",
    "warnings.filterwarnings(action=\"ignore\")"
   ]
  },
  {
   "cell_type": "code",
   "execution_count": 53,
   "id": "dc98be66",
   "metadata": {},
   "outputs": [
    {
     "data": {
      "text/html": [
       "<div>\n",
       "<style scoped>\n",
       "    .dataframe tbody tr th:only-of-type {\n",
       "        vertical-align: middle;\n",
       "    }\n",
       "\n",
       "    .dataframe tbody tr th {\n",
       "        vertical-align: top;\n",
       "    }\n",
       "\n",
       "    .dataframe thead th {\n",
       "        text-align: right;\n",
       "    }\n",
       "</style>\n",
       "<table border=\"1\" class=\"dataframe\">\n",
       "  <thead>\n",
       "    <tr style=\"text-align: right;\">\n",
       "      <th></th>\n",
       "      <th>Depth(m)</th>\n",
       "      <th>weight on bit (kg)</th>\n",
       "      <th>Rotary Speed (rpm)</th>\n",
       "      <th>Pump Press (KPa)</th>\n",
       "      <th>Temp In(degC)</th>\n",
       "      <th>Flow In(liters/min)</th>\n",
       "      <th>Flow Out %</th>\n",
       "      <th>WH Pressure (KPa)</th>\n",
       "      <th>ROP(1 m)</th>\n",
       "    </tr>\n",
       "  </thead>\n",
       "  <tbody>\n",
       "    <tr>\n",
       "      <th>0</th>\n",
       "      <td>25.96</td>\n",
       "      <td>0.0</td>\n",
       "      <td>151.09</td>\n",
       "      <td>3197.35</td>\n",
       "      <td>32.71</td>\n",
       "      <td>4200.22</td>\n",
       "      <td>101.61</td>\n",
       "      <td>-8485.61</td>\n",
       "      <td>17.31</td>\n",
       "    </tr>\n",
       "    <tr>\n",
       "      <th>1</th>\n",
       "      <td>26.27</td>\n",
       "      <td>0.0</td>\n",
       "      <td>151.09</td>\n",
       "      <td>3168.46</td>\n",
       "      <td>32.68</td>\n",
       "      <td>4195.60</td>\n",
       "      <td>101.70</td>\n",
       "      <td>-8485.61</td>\n",
       "      <td>18.63</td>\n",
       "    </tr>\n",
       "    <tr>\n",
       "      <th>2</th>\n",
       "      <td>26.59</td>\n",
       "      <td>0.0</td>\n",
       "      <td>61.54</td>\n",
       "      <td>3134.26</td>\n",
       "      <td>32.73</td>\n",
       "      <td>4174.82</td>\n",
       "      <td>96.81</td>\n",
       "      <td>-8485.61</td>\n",
       "      <td>5.66</td>\n",
       "    </tr>\n",
       "    <tr>\n",
       "      <th>3</th>\n",
       "      <td>26.90</td>\n",
       "      <td>0.0</td>\n",
       "      <td>60.23</td>\n",
       "      <td>3110.61</td>\n",
       "      <td>32.86</td>\n",
       "      <td>4167.89</td>\n",
       "      <td>96.67</td>\n",
       "      <td>-8485.61</td>\n",
       "      <td>11.67</td>\n",
       "    </tr>\n",
       "    <tr>\n",
       "      <th>4</th>\n",
       "      <td>27.24</td>\n",
       "      <td>0.0</td>\n",
       "      <td>61.75</td>\n",
       "      <td>3144.74</td>\n",
       "      <td>32.88</td>\n",
       "      <td>4173.26</td>\n",
       "      <td>96.63</td>\n",
       "      <td>-8485.61</td>\n",
       "      <td>120.20</td>\n",
       "    </tr>\n",
       "  </tbody>\n",
       "</table>\n",
       "</div>"
      ],
      "text/plain": [
       "   Depth(m)  weight on bit (kg)  Rotary Speed (rpm)  Pump Press (KPa)  \\\n",
       "0     25.96                 0.0              151.09           3197.35   \n",
       "1     26.27                 0.0              151.09           3168.46   \n",
       "2     26.59                 0.0               61.54           3134.26   \n",
       "3     26.90                 0.0               60.23           3110.61   \n",
       "4     27.24                 0.0               61.75           3144.74   \n",
       "\n",
       "   Temp In(degC)  Flow In(liters/min)  Flow Out %  WH Pressure (KPa)  ROP(1 m)  \n",
       "0          32.71              4200.22      101.61           -8485.61     17.31  \n",
       "1          32.68              4195.60      101.70           -8485.61     18.63  \n",
       "2          32.73              4174.82       96.81           -8485.61      5.66  \n",
       "3          32.86              4167.89       96.67           -8485.61     11.67  \n",
       "4          32.88              4173.26       96.63           -8485.61    120.20  "
      ]
     },
     "execution_count": 53,
     "metadata": {},
     "output_type": "execute_result"
    }
   ],
   "source": [
    "df=pd.read_csv(r\"C:\\Users\\USER\\Desktop\\ROP_Prediction-main\\ROP_Prediction-main\\welldata_NonOutlier.csv\")\n",
    "df.head()"
   ]
  },
  {
   "cell_type": "code",
   "execution_count": 75,
   "id": "ec7ae639",
   "metadata": {},
   "outputs": [
    {
     "data": {
      "text/plain": [
       "Depth(m)                2296.94\n",
       "weight on bit (kg)     21337.87\n",
       "Rotary Speed (rpm)       178.86\n",
       "Pump Press (KPa)       15171.96\n",
       "Temp In(degC)             63.51\n",
       "Flow In(liters/min)     5864.13\n",
       "Flow Out %               111.21\n",
       "WH Pressure (KPa)        120.04\n",
       "ROP(1 m)                 274.75\n",
       "dtype: float64"
      ]
     },
     "execution_count": 75,
     "metadata": {},
     "output_type": "execute_result"
    }
   ],
   "source": [
    "df.max()"
   ]
  },
  {
   "cell_type": "code",
   "execution_count": 55,
   "id": "28dfd5b4",
   "metadata": {},
   "outputs": [],
   "source": [
    "X = df[['Depth(m)', 'weight on bit (kg)', 'Rotary Speed (rpm)', 'Pump Press (KPa)',\n",
    "        'Flow In(liters/min)','WH Pressure (KPa)','Flow Out %']]\n",
    "y = df['ROP(1 m)']"
   ]
  },
  {
   "cell_type": "code",
   "execution_count": null,
   "id": "ae444c37",
   "metadata": {},
   "outputs": [],
   "source": []
  },
  {
   "cell_type": "code",
   "execution_count": 56,
   "id": "a441dbb1",
   "metadata": {},
   "outputs": [],
   "source": [
    "# Split the data into training and testing sets\n",
    "X_train, X_test, y_train, y_test = train_test_split(X, y, test_size=0.2, random_state=87)"
   ]
  },
  {
   "cell_type": "code",
   "execution_count": 57,
   "id": "6d3169f6",
   "metadata": {},
   "outputs": [],
   "source": [
    "from sklearn.metrics import mean_squared_error\n",
    "from mealpy.evolutionary_based.GA import BaseGA, MultiGA, EliteSingleGA, SingleGA\n",
    "from mealpy.utils.problem import Problem\n",
    "from xgboost import XGBRegressor\n",
    "from sklearn.metrics import r2_score"
   ]
  },
  {
   "cell_type": "code",
   "execution_count": 58,
   "id": "9ffb77a0",
   "metadata": {},
   "outputs": [
    {
     "name": "stdout",
     "output_type": "stream",
     "text": [
      "Wall time: 7.19 s\n",
      "TEST R2 SCORE:  0.8438386326741589\n",
      "TRAIN R2 SCORE:  0.9988374772777102\n",
      "DATA R2 SCORE:  0.9710026056970794\n"
     ]
    }
   ],
   "source": [
    "import warnings\n",
    "warnings.filterwarnings(action=\"ignore\")\n",
    "xgb_model = XGBRegressor(\n",
    "        objective = 'reg:squarederror',\n",
    "        colsample_bytree = 0.5,\n",
    "        learning_rate = 0.02,\n",
    "        max_depth = 10,\n",
    "        min_child_weight = 1,\n",
    "        n_estimators = 1000,\n",
    "        subsample = 0.7)\n",
    "\n",
    "%time xgb_model.fit(X_train, y_train, early_stopping_rounds=5, eval_set=[(X_train, y_train)], verbose=False)\n",
    "\n",
    "y_pred_xgb = xgb_model.predict(X_test)\n",
    "pred = xgb_model.predict(X_train)\n",
    "pred_df = xgb_model.predict(X)\n",
    "\n",
    "test_score  = r2_score(y_test, y_pred_xgb)\n",
    "train_score = r2_score(y_train,pred)\n",
    "df_score =  r2_score(y,pred_df)\n",
    "\n",
    "print(\"TEST R2 SCORE: \", test_score)\n",
    "print(\"TRAIN R2 SCORE: \", train_score)\n",
    "print(\"DATA R2 SCORE: \", df_score)"
   ]
  },
  {
   "cell_type": "code",
   "execution_count": null,
   "id": "f2118d45",
   "metadata": {},
   "outputs": [],
   "source": []
  },
  {
   "cell_type": "code",
   "execution_count": 59,
   "id": "51813835",
   "metadata": {},
   "outputs": [],
   "source": [
    "# Create a function to be optimized by the  algorithms\n",
    "def obj_fun(X):\n",
    "    results = xgb_model.predict(np.array(X).reshape(1, -1)) # Reshape X to have one sample and as many features as needed\n",
    "    return -results  # Negative to maximize the prediction (Yield)"
   ]
  },
  {
   "cell_type": "code",
   "execution_count": 61,
   "id": "67d3e360",
   "metadata": {},
   "outputs": [],
   "source": [
    "problem_dict1 = {\n",
    "    \"fit_func\": obj_fun,\n",
    "    \"lb\": [df['Depth(m)'].min(), df['weight on bit (kg)'].min(),df['Rotary Speed (rpm)'].min(), \n",
    "           df['Pump Press (KPa)'].min(),df[\"Flow In(liters/min)\"].min(),df[\"WH Pressure (KPa)\"].min(),df[\"Flow Out %\"].min()],\n",
    "    \"ub\": [df['Depth(m)'].max(), df['weight on bit (kg)'].max(),df['Rotary Speed (rpm)'].max(), \n",
    "           df['Pump Press (KPa)'].max(),df[\"Flow In(liters/min)\"].max(),df[\"WH Pressure (KPa)\"].max(),df[\"Flow Out %\"].max()],\n",
    "    \"minmax\": \"min\",\n",
    "}"
   ]
  },
  {
   "cell_type": "code",
   "execution_count": null,
   "id": "d9be8229",
   "metadata": {},
   "outputs": [],
   "source": []
  },
  {
   "cell_type": "code",
   "execution_count": 122,
   "id": "e5639fee",
   "metadata": {},
   "outputs": [],
   "source": [
    "epoch = 100\n",
    "pop_size = 1000\n",
    "pc = 0.95\n",
    "pm = 0.05"
   ]
  },
  {
   "cell_type": "code",
   "execution_count": 123,
   "id": "076afd47",
   "metadata": {},
   "outputs": [],
   "source": [
    "model = BaseGA(epoch, pop_size, pc, pm)"
   ]
  },
  {
   "cell_type": "code",
   "execution_count": 124,
   "id": "356f86cb",
   "metadata": {
    "scrolled": true
   },
   "outputs": [
    {
     "name": "stderr",
     "output_type": "stream",
     "text": [
      "2023/08/05 06:13:35 PM, INFO, mealpy.evolutionary_based.GA.BaseGA: Solving single objective optimization problem.\n",
      "2023/08/05 06:13:39 PM, INFO, mealpy.evolutionary_based.GA.BaseGA: >Problem: P, Epoch: 1, Current best: -166.76962280273438, Global best: -166.76962280273438, Runtime: 2.24610 seconds\n",
      "2023/08/05 06:13:41 PM, INFO, mealpy.evolutionary_based.GA.BaseGA: >Problem: P, Epoch: 2, Current best: -184.15711975097656, Global best: -184.15711975097656, Runtime: 2.25464 seconds\n",
      "2023/08/05 06:13:44 PM, INFO, mealpy.evolutionary_based.GA.BaseGA: >Problem: P, Epoch: 3, Current best: -204.35910034179688, Global best: -204.35910034179688, Runtime: 2.28686 seconds\n",
      "2023/08/05 06:13:46 PM, INFO, mealpy.evolutionary_based.GA.BaseGA: >Problem: P, Epoch: 4, Current best: -209.20994567871094, Global best: -209.20994567871094, Runtime: 2.16098 seconds\n",
      "2023/08/05 06:13:48 PM, INFO, mealpy.evolutionary_based.GA.BaseGA: >Problem: P, Epoch: 5, Current best: -223.79086303710938, Global best: -223.79086303710938, Runtime: 2.18920 seconds\n",
      "2023/08/05 06:13:50 PM, INFO, mealpy.evolutionary_based.GA.BaseGA: >Problem: P, Epoch: 6, Current best: -229.92469787597656, Global best: -229.92469787597656, Runtime: 2.16140 seconds\n",
      "2023/08/05 06:13:52 PM, INFO, mealpy.evolutionary_based.GA.BaseGA: >Problem: P, Epoch: 7, Current best: -230.24468994140625, Global best: -230.24468994140625, Runtime: 2.28898 seconds\n",
      "2023/08/05 06:13:55 PM, INFO, mealpy.evolutionary_based.GA.BaseGA: >Problem: P, Epoch: 8, Current best: -230.24468994140625, Global best: -230.24468994140625, Runtime: 2.15981 seconds\n",
      "2023/08/05 06:13:57 PM, INFO, mealpy.evolutionary_based.GA.BaseGA: >Problem: P, Epoch: 9, Current best: -230.24468994140625, Global best: -230.24468994140625, Runtime: 2.19141 seconds\n",
      "2023/08/05 06:13:59 PM, INFO, mealpy.evolutionary_based.GA.BaseGA: >Problem: P, Epoch: 10, Current best: -230.24468994140625, Global best: -230.24468994140625, Runtime: 2.16200 seconds\n",
      "2023/08/05 06:14:01 PM, INFO, mealpy.evolutionary_based.GA.BaseGA: >Problem: P, Epoch: 11, Current best: -230.44374084472656, Global best: -230.44374084472656, Runtime: 2.31249 seconds\n",
      "2023/08/05 06:14:04 PM, INFO, mealpy.evolutionary_based.GA.BaseGA: >Problem: P, Epoch: 12, Current best: -230.44374084472656, Global best: -230.44374084472656, Runtime: 2.18213 seconds\n",
      "2023/08/05 06:14:06 PM, INFO, mealpy.evolutionary_based.GA.BaseGA: >Problem: P, Epoch: 13, Current best: -230.44374084472656, Global best: -230.44374084472656, Runtime: 2.16158 seconds\n",
      "2023/08/05 06:14:08 PM, INFO, mealpy.evolutionary_based.GA.BaseGA: >Problem: P, Epoch: 14, Current best: -239.7965850830078, Global best: -239.7965850830078, Runtime: 2.15328 seconds\n",
      "2023/08/05 06:14:10 PM, INFO, mealpy.evolutionary_based.GA.BaseGA: >Problem: P, Epoch: 15, Current best: -239.7965850830078, Global best: -239.7965850830078, Runtime: 2.05097 seconds\n",
      "2023/08/05 06:14:12 PM, INFO, mealpy.evolutionary_based.GA.BaseGA: >Problem: P, Epoch: 16, Current best: -240.45187377929688, Global best: -240.45187377929688, Runtime: 2.21976 seconds\n",
      "2023/08/05 06:14:14 PM, INFO, mealpy.evolutionary_based.GA.BaseGA: >Problem: P, Epoch: 17, Current best: -249.4567413330078, Global best: -249.4567413330078, Runtime: 2.22996 seconds\n",
      "2023/08/05 06:14:17 PM, INFO, mealpy.evolutionary_based.GA.BaseGA: >Problem: P, Epoch: 18, Current best: -249.4567413330078, Global best: -249.4567413330078, Runtime: 2.47154 seconds\n",
      "2023/08/05 06:14:19 PM, INFO, mealpy.evolutionary_based.GA.BaseGA: >Problem: P, Epoch: 19, Current best: -250.51185607910156, Global best: -250.51185607910156, Runtime: 2.48959 seconds\n",
      "2023/08/05 06:14:22 PM, INFO, mealpy.evolutionary_based.GA.BaseGA: >Problem: P, Epoch: 20, Current best: -250.51185607910156, Global best: -250.51185607910156, Runtime: 2.52309 seconds\n",
      "2023/08/05 06:14:24 PM, INFO, mealpy.evolutionary_based.GA.BaseGA: >Problem: P, Epoch: 21, Current best: -261.0600280761719, Global best: -261.0600280761719, Runtime: 2.37324 seconds\n",
      "2023/08/05 06:14:28 PM, INFO, mealpy.evolutionary_based.GA.BaseGA: >Problem: P, Epoch: 22, Current best: -261.0600280761719, Global best: -261.0600280761719, Runtime: 3.27682 seconds\n",
      "2023/08/05 06:14:30 PM, INFO, mealpy.evolutionary_based.GA.BaseGA: >Problem: P, Epoch: 23, Current best: -261.0600280761719, Global best: -261.0600280761719, Runtime: 2.74407 seconds\n",
      "2023/08/05 06:14:33 PM, INFO, mealpy.evolutionary_based.GA.BaseGA: >Problem: P, Epoch: 24, Current best: -261.0600280761719, Global best: -261.0600280761719, Runtime: 2.62253 seconds\n",
      "2023/08/05 06:14:37 PM, INFO, mealpy.evolutionary_based.GA.BaseGA: >Problem: P, Epoch: 25, Current best: -267.61053466796875, Global best: -267.61053466796875, Runtime: 3.46067 seconds\n",
      "2023/08/05 06:14:42 PM, INFO, mealpy.evolutionary_based.GA.BaseGA: >Problem: P, Epoch: 26, Current best: -267.61053466796875, Global best: -267.61053466796875, Runtime: 5.02922 seconds\n",
      "2023/08/05 06:14:45 PM, INFO, mealpy.evolutionary_based.GA.BaseGA: >Problem: P, Epoch: 27, Current best: -267.61053466796875, Global best: -267.61053466796875, Runtime: 3.01885 seconds\n",
      "2023/08/05 06:14:47 PM, INFO, mealpy.evolutionary_based.GA.BaseGA: >Problem: P, Epoch: 28, Current best: -267.61053466796875, Global best: -267.61053466796875, Runtime: 2.28931 seconds\n",
      "2023/08/05 06:14:49 PM, INFO, mealpy.evolutionary_based.GA.BaseGA: >Problem: P, Epoch: 29, Current best: -267.61053466796875, Global best: -267.61053466796875, Runtime: 2.31537 seconds\n",
      "2023/08/05 06:14:52 PM, INFO, mealpy.evolutionary_based.GA.BaseGA: >Problem: P, Epoch: 30, Current best: -267.61053466796875, Global best: -267.61053466796875, Runtime: 2.73252 seconds\n",
      "2023/08/05 06:14:55 PM, INFO, mealpy.evolutionary_based.GA.BaseGA: >Problem: P, Epoch: 31, Current best: -267.61053466796875, Global best: -267.61053466796875, Runtime: 3.31789 seconds\n",
      "2023/08/05 06:14:58 PM, INFO, mealpy.evolutionary_based.GA.BaseGA: >Problem: P, Epoch: 32, Current best: -267.61053466796875, Global best: -267.61053466796875, Runtime: 2.98886 seconds\n",
      "2023/08/05 06:15:01 PM, INFO, mealpy.evolutionary_based.GA.BaseGA: >Problem: P, Epoch: 33, Current best: -267.61053466796875, Global best: -267.61053466796875, Runtime: 2.41646 seconds\n",
      "2023/08/05 06:15:03 PM, INFO, mealpy.evolutionary_based.GA.BaseGA: >Problem: P, Epoch: 34, Current best: -267.61053466796875, Global best: -267.61053466796875, Runtime: 2.41836 seconds\n",
      "2023/08/05 06:15:06 PM, INFO, mealpy.evolutionary_based.GA.BaseGA: >Problem: P, Epoch: 35, Current best: -270.92181396484375, Global best: -270.92181396484375, Runtime: 2.41858 seconds\n",
      "2023/08/05 06:15:08 PM, INFO, mealpy.evolutionary_based.GA.BaseGA: >Problem: P, Epoch: 36, Current best: -270.92181396484375, Global best: -270.92181396484375, Runtime: 2.23640 seconds\n",
      "2023/08/05 06:15:10 PM, INFO, mealpy.evolutionary_based.GA.BaseGA: >Problem: P, Epoch: 37, Current best: -270.92181396484375, Global best: -270.92181396484375, Runtime: 2.14513 seconds\n",
      "2023/08/05 06:15:12 PM, INFO, mealpy.evolutionary_based.GA.BaseGA: >Problem: P, Epoch: 38, Current best: -270.92181396484375, Global best: -270.92181396484375, Runtime: 2.24634 seconds\n",
      "2023/08/05 06:15:15 PM, INFO, mealpy.evolutionary_based.GA.BaseGA: >Problem: P, Epoch: 39, Current best: -270.92181396484375, Global best: -270.92181396484375, Runtime: 2.17271 seconds\n",
      "2023/08/05 06:15:17 PM, INFO, mealpy.evolutionary_based.GA.BaseGA: >Problem: P, Epoch: 40, Current best: -270.92181396484375, Global best: -270.92181396484375, Runtime: 2.36645 seconds\n",
      "2023/08/05 06:15:19 PM, INFO, mealpy.evolutionary_based.GA.BaseGA: >Problem: P, Epoch: 41, Current best: -270.92181396484375, Global best: -270.92181396484375, Runtime: 2.39829 seconds\n",
      "2023/08/05 06:15:22 PM, INFO, mealpy.evolutionary_based.GA.BaseGA: >Problem: P, Epoch: 42, Current best: -270.92181396484375, Global best: -270.92181396484375, Runtime: 2.39985 seconds\n",
      "2023/08/05 06:15:24 PM, INFO, mealpy.evolutionary_based.GA.BaseGA: >Problem: P, Epoch: 43, Current best: -270.92181396484375, Global best: -270.92181396484375, Runtime: 2.37489 seconds\n",
      "2023/08/05 06:15:27 PM, INFO, mealpy.evolutionary_based.GA.BaseGA: >Problem: P, Epoch: 44, Current best: -270.92181396484375, Global best: -270.92181396484375, Runtime: 2.30996 seconds\n"
     ]
    },
    {
     "name": "stderr",
     "output_type": "stream",
     "text": [
      "2023/08/05 06:15:29 PM, INFO, mealpy.evolutionary_based.GA.BaseGA: >Problem: P, Epoch: 45, Current best: -270.92181396484375, Global best: -270.92181396484375, Runtime: 2.42146 seconds\n",
      "2023/08/05 06:15:31 PM, INFO, mealpy.evolutionary_based.GA.BaseGA: >Problem: P, Epoch: 46, Current best: -270.92181396484375, Global best: -270.92181396484375, Runtime: 2.33631 seconds\n",
      "2023/08/05 06:15:34 PM, INFO, mealpy.evolutionary_based.GA.BaseGA: >Problem: P, Epoch: 47, Current best: -270.92181396484375, Global best: -270.92181396484375, Runtime: 2.51020 seconds\n",
      "2023/08/05 06:15:37 PM, INFO, mealpy.evolutionary_based.GA.BaseGA: >Problem: P, Epoch: 48, Current best: -270.92181396484375, Global best: -270.92181396484375, Runtime: 3.38342 seconds\n",
      "2023/08/05 06:15:41 PM, INFO, mealpy.evolutionary_based.GA.BaseGA: >Problem: P, Epoch: 49, Current best: -270.92181396484375, Global best: -270.92181396484375, Runtime: 3.72923 seconds\n",
      "2023/08/05 06:15:44 PM, INFO, mealpy.evolutionary_based.GA.BaseGA: >Problem: P, Epoch: 50, Current best: -270.92181396484375, Global best: -270.92181396484375, Runtime: 2.56116 seconds\n",
      "2023/08/05 06:15:46 PM, INFO, mealpy.evolutionary_based.GA.BaseGA: >Problem: P, Epoch: 51, Current best: -270.92181396484375, Global best: -270.92181396484375, Runtime: 2.34328 seconds\n",
      "2023/08/05 06:15:48 PM, INFO, mealpy.evolutionary_based.GA.BaseGA: >Problem: P, Epoch: 52, Current best: -270.92181396484375, Global best: -270.92181396484375, Runtime: 2.48344 seconds\n",
      "2023/08/05 06:15:51 PM, INFO, mealpy.evolutionary_based.GA.BaseGA: >Problem: P, Epoch: 53, Current best: -270.92181396484375, Global best: -270.92181396484375, Runtime: 2.27405 seconds\n",
      "2023/08/05 06:15:53 PM, INFO, mealpy.evolutionary_based.GA.BaseGA: >Problem: P, Epoch: 54, Current best: -270.92181396484375, Global best: -270.92181396484375, Runtime: 2.30132 seconds\n",
      "2023/08/05 06:15:55 PM, INFO, mealpy.evolutionary_based.GA.BaseGA: >Problem: P, Epoch: 55, Current best: -270.92181396484375, Global best: -270.92181396484375, Runtime: 2.33800 seconds\n",
      "2023/08/05 06:15:58 PM, INFO, mealpy.evolutionary_based.GA.BaseGA: >Problem: P, Epoch: 56, Current best: -270.92181396484375, Global best: -270.92181396484375, Runtime: 2.38670 seconds\n",
      "2023/08/05 06:16:00 PM, INFO, mealpy.evolutionary_based.GA.BaseGA: >Problem: P, Epoch: 57, Current best: -270.92181396484375, Global best: -270.92181396484375, Runtime: 2.41109 seconds\n",
      "2023/08/05 06:16:04 PM, INFO, mealpy.evolutionary_based.GA.BaseGA: >Problem: P, Epoch: 58, Current best: -271.1427917480469, Global best: -271.1427917480469, Runtime: 3.30865 seconds\n",
      "2023/08/05 06:16:07 PM, INFO, mealpy.evolutionary_based.GA.BaseGA: >Problem: P, Epoch: 59, Current best: -271.1427917480469, Global best: -271.1427917480469, Runtime: 3.23922 seconds\n",
      "2023/08/05 06:16:10 PM, INFO, mealpy.evolutionary_based.GA.BaseGA: >Problem: P, Epoch: 60, Current best: -271.1427917480469, Global best: -271.1427917480469, Runtime: 2.80252 seconds\n",
      "2023/08/05 06:16:12 PM, INFO, mealpy.evolutionary_based.GA.BaseGA: >Problem: P, Epoch: 61, Current best: -271.1427917480469, Global best: -271.1427917480469, Runtime: 2.49747 seconds\n",
      "2023/08/05 06:16:14 PM, INFO, mealpy.evolutionary_based.GA.BaseGA: >Problem: P, Epoch: 62, Current best: -271.1427917480469, Global best: -271.1427917480469, Runtime: 2.24796 seconds\n",
      "2023/08/05 06:16:17 PM, INFO, mealpy.evolutionary_based.GA.BaseGA: >Problem: P, Epoch: 63, Current best: -271.1427917480469, Global best: -271.1427917480469, Runtime: 2.24071 seconds\n",
      "2023/08/05 06:16:19 PM, INFO, mealpy.evolutionary_based.GA.BaseGA: >Problem: P, Epoch: 64, Current best: -271.1427917480469, Global best: -271.1427917480469, Runtime: 2.22056 seconds\n",
      "2023/08/05 06:16:21 PM, INFO, mealpy.evolutionary_based.GA.BaseGA: >Problem: P, Epoch: 65, Current best: -271.1427917480469, Global best: -271.1427917480469, Runtime: 2.22249 seconds\n",
      "2023/08/05 06:16:24 PM, INFO, mealpy.evolutionary_based.GA.BaseGA: >Problem: P, Epoch: 66, Current best: -271.1427917480469, Global best: -271.1427917480469, Runtime: 2.39889 seconds\n",
      "2023/08/05 06:16:26 PM, INFO, mealpy.evolutionary_based.GA.BaseGA: >Problem: P, Epoch: 67, Current best: -271.1427917480469, Global best: -271.1427917480469, Runtime: 2.31643 seconds\n",
      "2023/08/05 06:16:29 PM, INFO, mealpy.evolutionary_based.GA.BaseGA: >Problem: P, Epoch: 68, Current best: -271.1427917480469, Global best: -271.1427917480469, Runtime: 2.57206 seconds\n",
      "2023/08/05 06:16:31 PM, INFO, mealpy.evolutionary_based.GA.BaseGA: >Problem: P, Epoch: 69, Current best: -271.1427917480469, Global best: -271.1427917480469, Runtime: 2.62157 seconds\n",
      "2023/08/05 06:16:34 PM, INFO, mealpy.evolutionary_based.GA.BaseGA: >Problem: P, Epoch: 70, Current best: -271.1427917480469, Global best: -271.1427917480469, Runtime: 2.51385 seconds\n",
      "2023/08/05 06:16:36 PM, INFO, mealpy.evolutionary_based.GA.BaseGA: >Problem: P, Epoch: 71, Current best: -271.1427917480469, Global best: -271.1427917480469, Runtime: 2.43514 seconds\n",
      "2023/08/05 06:16:39 PM, INFO, mealpy.evolutionary_based.GA.BaseGA: >Problem: P, Epoch: 72, Current best: -271.1427917480469, Global best: -271.1427917480469, Runtime: 2.30217 seconds\n",
      "2023/08/05 06:16:41 PM, INFO, mealpy.evolutionary_based.GA.BaseGA: >Problem: P, Epoch: 73, Current best: -271.1427917480469, Global best: -271.1427917480469, Runtime: 2.35877 seconds\n",
      "2023/08/05 06:16:43 PM, INFO, mealpy.evolutionary_based.GA.BaseGA: >Problem: P, Epoch: 74, Current best: -271.1427917480469, Global best: -271.1427917480469, Runtime: 2.34921 seconds\n",
      "2023/08/05 06:16:46 PM, INFO, mealpy.evolutionary_based.GA.BaseGA: >Problem: P, Epoch: 75, Current best: -271.1427917480469, Global best: -271.1427917480469, Runtime: 2.34827 seconds\n",
      "2023/08/05 06:16:48 PM, INFO, mealpy.evolutionary_based.GA.BaseGA: >Problem: P, Epoch: 76, Current best: -271.1427917480469, Global best: -271.1427917480469, Runtime: 2.28896 seconds\n",
      "2023/08/05 06:16:50 PM, INFO, mealpy.evolutionary_based.GA.BaseGA: >Problem: P, Epoch: 77, Current best: -271.1427917480469, Global best: -271.1427917480469, Runtime: 2.39133 seconds\n",
      "2023/08/05 06:16:53 PM, INFO, mealpy.evolutionary_based.GA.BaseGA: >Problem: P, Epoch: 78, Current best: -271.1427917480469, Global best: -271.1427917480469, Runtime: 2.21930 seconds\n",
      "2023/08/05 06:16:55 PM, INFO, mealpy.evolutionary_based.GA.BaseGA: >Problem: P, Epoch: 79, Current best: -271.1427917480469, Global best: -271.1427917480469, Runtime: 2.16408 seconds\n",
      "2023/08/05 06:16:57 PM, INFO, mealpy.evolutionary_based.GA.BaseGA: >Problem: P, Epoch: 80, Current best: -271.1427917480469, Global best: -271.1427917480469, Runtime: 2.19547 seconds\n",
      "2023/08/05 06:16:59 PM, INFO, mealpy.evolutionary_based.GA.BaseGA: >Problem: P, Epoch: 81, Current best: -271.1427917480469, Global best: -271.1427917480469, Runtime: 2.19276 seconds\n",
      "2023/08/05 06:17:02 PM, INFO, mealpy.evolutionary_based.GA.BaseGA: >Problem: P, Epoch: 82, Current best: -271.1427917480469, Global best: -271.1427917480469, Runtime: 2.29478 seconds\n",
      "2023/08/05 06:17:04 PM, INFO, mealpy.evolutionary_based.GA.BaseGA: >Problem: P, Epoch: 83, Current best: -271.1427917480469, Global best: -271.1427917480469, Runtime: 2.14326 seconds\n",
      "2023/08/05 06:17:06 PM, INFO, mealpy.evolutionary_based.GA.BaseGA: >Problem: P, Epoch: 84, Current best: -271.1427917480469, Global best: -271.1427917480469, Runtime: 2.24208 seconds\n",
      "2023/08/05 06:17:08 PM, INFO, mealpy.evolutionary_based.GA.BaseGA: >Problem: P, Epoch: 85, Current best: -271.1427917480469, Global best: -271.1427917480469, Runtime: 2.25719 seconds\n",
      "2023/08/05 06:17:10 PM, INFO, mealpy.evolutionary_based.GA.BaseGA: >Problem: P, Epoch: 86, Current best: -271.1427917480469, Global best: -271.1427917480469, Runtime: 2.12995 seconds\n",
      "2023/08/05 06:17:13 PM, INFO, mealpy.evolutionary_based.GA.BaseGA: >Problem: P, Epoch: 87, Current best: -271.1427917480469, Global best: -271.1427917480469, Runtime: 2.26748 seconds\n",
      "2023/08/05 06:17:15 PM, INFO, mealpy.evolutionary_based.GA.BaseGA: >Problem: P, Epoch: 88, Current best: -271.1427917480469, Global best: -271.1427917480469, Runtime: 2.20268 seconds\n",
      "2023/08/05 06:17:17 PM, INFO, mealpy.evolutionary_based.GA.BaseGA: >Problem: P, Epoch: 89, Current best: -271.1427917480469, Global best: -271.1427917480469, Runtime: 2.20896 seconds\n"
     ]
    },
    {
     "name": "stderr",
     "output_type": "stream",
     "text": [
      "2023/08/05 06:17:19 PM, INFO, mealpy.evolutionary_based.GA.BaseGA: >Problem: P, Epoch: 90, Current best: -271.1427917480469, Global best: -271.1427917480469, Runtime: 2.15958 seconds\n",
      "2023/08/05 06:17:21 PM, INFO, mealpy.evolutionary_based.GA.BaseGA: >Problem: P, Epoch: 91, Current best: -271.1427917480469, Global best: -271.1427917480469, Runtime: 2.13427 seconds\n",
      "2023/08/05 06:17:24 PM, INFO, mealpy.evolutionary_based.GA.BaseGA: >Problem: P, Epoch: 92, Current best: -271.1427917480469, Global best: -271.1427917480469, Runtime: 2.22704 seconds\n",
      "2023/08/05 06:17:26 PM, INFO, mealpy.evolutionary_based.GA.BaseGA: >Problem: P, Epoch: 93, Current best: -271.1427917480469, Global best: -271.1427917480469, Runtime: 2.15470 seconds\n",
      "2023/08/05 06:17:28 PM, INFO, mealpy.evolutionary_based.GA.BaseGA: >Problem: P, Epoch: 94, Current best: -271.1427917480469, Global best: -271.1427917480469, Runtime: 2.19060 seconds\n",
      "2023/08/05 06:17:30 PM, INFO, mealpy.evolutionary_based.GA.BaseGA: >Problem: P, Epoch: 95, Current best: -271.1427917480469, Global best: -271.1427917480469, Runtime: 2.31946 seconds\n",
      "2023/08/05 06:17:33 PM, INFO, mealpy.evolutionary_based.GA.BaseGA: >Problem: P, Epoch: 96, Current best: -271.1427917480469, Global best: -271.1427917480469, Runtime: 2.14736 seconds\n",
      "2023/08/05 06:17:35 PM, INFO, mealpy.evolutionary_based.GA.BaseGA: >Problem: P, Epoch: 97, Current best: -280.23468017578125, Global best: -280.23468017578125, Runtime: 2.15716 seconds\n",
      "2023/08/05 06:17:37 PM, INFO, mealpy.evolutionary_based.GA.BaseGA: >Problem: P, Epoch: 98, Current best: -280.23468017578125, Global best: -280.23468017578125, Runtime: 2.19963 seconds\n",
      "2023/08/05 06:17:39 PM, INFO, mealpy.evolutionary_based.GA.BaseGA: >Problem: P, Epoch: 99, Current best: -280.23468017578125, Global best: -280.23468017578125, Runtime: 2.16005 seconds\n",
      "2023/08/05 06:17:41 PM, INFO, mealpy.evolutionary_based.GA.BaseGA: >Problem: P, Epoch: 100, Current best: -280.23468017578125, Global best: -280.23468017578125, Runtime: 2.27308 seconds\n"
     ]
    }
   ],
   "source": [
    "best_position, best_fitness = model.solve(problem_dict1)"
   ]
  },
  {
   "cell_type": "code",
   "execution_count": 125,
   "id": "9c97fced",
   "metadata": {},
   "outputs": [
    {
     "name": "stdout",
     "output_type": "stream",
     "text": [
      "Best Solution:\n",
      "Depth(m): 47.34297225851324\n",
      "weight on bit (kg): 29.758632578235083\n",
      "Rotary Speed (rpm): 119.14100211223189\n",
      "Pump Press (KPa): 2937.165247233609\n",
      "Flow In(liters/min): 4101.155682343371\n",
      "WH Pressure (KPa): -8490.306494267877\n",
      "Flow Out %: 91.72246945361596\n",
      "Best Fitness: 280.23468017578125\n"
     ]
    }
   ],
   "source": [
    "print(\"Best Solution:\")\n",
    "print(\"Depth(m):\", best_position[0])\n",
    "print(\"weight on bit (kg):\", best_position[1])\n",
    "print(\"Rotary Speed (rpm):\", best_position[2])\n",
    "print(\"Pump Press (KPa):\", best_position[3])\n",
    "print(\"Flow In(liters/min):\", best_position[4])\n",
    "print(\"WH Pressure (KPa):\", best_position[5])\n",
    "print(\"Flow Out %:\", best_position[6])\n",
    "print(\"Best Fitness:\", -best_fitness)  # Convert back to positive as it was negated for maximization"
   ]
  },
  {
   "cell_type": "code",
   "execution_count": null,
   "id": "f51a78b3",
   "metadata": {},
   "outputs": [],
   "source": []
  }
 ],
 "metadata": {
  "kernelspec": {
   "display_name": "Python 3 (ipykernel)",
   "language": "python",
   "name": "python3"
  },
  "language_info": {
   "codemirror_mode": {
    "name": "ipython",
    "version": 3
   },
   "file_extension": ".py",
   "mimetype": "text/x-python",
   "name": "python",
   "nbconvert_exporter": "python",
   "pygments_lexer": "ipython3",
   "version": "3.9.13"
  }
 },
 "nbformat": 4,
 "nbformat_minor": 5
}
